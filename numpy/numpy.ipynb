{
 "cells": [
  {
   "cell_type": "markdown",
   "metadata": {},
   "source": [
    "# Numpy(Numberic Python)"
   ]
  },
  {
   "cell_type": "code",
   "execution_count": 1,
   "metadata": {},
   "outputs": [],
   "source": [
    "# Installation anconda numpy"
   ]
  },
  {
   "cell_type": "markdown",
   "metadata": {},
   "source": [
    "## How to import numpy (Numeric Python)"
   ]
  },
  {
   "cell_type": "code",
   "execution_count": 2,
   "metadata": {},
   "outputs": [],
   "source": [
    "# A numpy array must have all items to be of the same data type, unlike lists.\n",
    "# This is another significant difference."
   ]
  },
  {
   "cell_type": "code",
   "execution_count": 3,
   "metadata": {},
   "outputs": [],
   "source": [
    "# How to import numpy\n",
    "import numpy as np\n"
   ]
  },
  {
   "cell_type": "markdown",
   "metadata": {},
   "source": [
    "## How to check package version in python"
   ]
  },
  {
   "cell_type": "code",
   "execution_count": 4,
   "metadata": {},
   "outputs": [
    {
     "name": "stdout",
     "output_type": "stream",
     "text": [
      "numpy: 1.16.2\n"
     ]
    }
   ],
   "source": [
    "# How to check the version of the numpy package\n",
    "print('numpy:', np.__version__)\n"
   ]
  },
  {
   "cell_type": "code",
   "execution_count": 5,
   "metadata": {},
   "outputs": [],
   "source": [
    "# Checking the available methods\n",
    "# print(dir(np))\n",
    "# print(np.log10(2))\n",
    "# print(np.not_equal(10, 10))"
   ]
  },
  {
   "cell_type": "markdown",
   "metadata": {},
   "source": [
    "## Creating a list in python"
   ]
  },
  {
   "cell_type": "code",
   "execution_count": 6,
   "metadata": {},
   "outputs": [
    {
     "name": "stdout",
     "output_type": "stream",
     "text": [
      "<class 'list'>\n",
      "[1, 2, 3, 4, 5]\n",
      "[[0, 1, 2], [3, 4, 5], [6, 7, 8]]\n"
     ]
    }
   ],
   "source": [
    "# Creating python List\n",
    "\n",
    "python_list = [1,2,3,4,5]\n",
    "# Checking data types\n",
    "print(type (python_list))\n",
    "print(python_list)\n",
    "two_dimensional_list = [[0,1,2], [3,4,5], [6,7,8]]\n",
    "print(two_dimensional_list)"
   ]
  },
  {
   "cell_type": "markdown",
   "metadata": {},
   "source": [
    "## Creating numpy array using numpy"
   ]
  },
  {
   "cell_type": "code",
   "execution_count": 7,
   "metadata": {},
   "outputs": [
    {
     "name": "stdout",
     "output_type": "stream",
     "text": [
      "<class 'numpy.ndarray'>\n",
      "[1 2 3 4 5]\n"
     ]
    }
   ],
   "source": [
    "# Creating Numpy(Numerical Python) array from python list\n",
    "numpy_array_from_list = np.array(python_list)\n",
    "print(type (numpy_array_from_list))\n",
    "print(numpy_array_from_list)\n"
   ]
  },
  {
   "cell_type": "code",
   "execution_count": 8,
   "metadata": {},
   "outputs": [
    {
     "data": {
      "text/plain": [
       "array([1, 2, 3, 4, 5])"
      ]
     },
     "execution_count": 8,
     "metadata": {},
     "output_type": "execute_result"
    }
   ],
   "source": [
    "numy_array_from_list2 = np.array(python_list)\n",
    "numy_array_from_list2"
   ]
  },
  {
   "cell_type": "code",
   "execution_count": 9,
   "metadata": {},
   "outputs": [
    {
     "data": {
      "text/plain": [
       "array([1., 2., 3., 4., 5.])"
      ]
     },
     "execution_count": 9,
     "metadata": {},
     "output_type": "execute_result"
    }
   ],
   "source": [
    "numy_array_from_list2 = np.array(python_list, dtype=float)\n",
    "numy_array_from_list2"
   ]
  },
  {
   "cell_type": "code",
   "execution_count": 10,
   "metadata": {},
   "outputs": [
    {
     "data": {
      "text/plain": [
       "array([False,  True,  True, False, False])"
      ]
     },
     "execution_count": 10,
     "metadata": {},
     "output_type": "execute_result"
    }
   ],
   "source": [
    "numpy_bool_array = np.array([0, 1, -1, 0, 0], dtype=bool)\n",
    "numpy_bool_array"
   ]
  },
  {
   "cell_type": "code",
   "execution_count": 11,
   "metadata": {},
   "outputs": [
    {
     "name": "stdout",
     "output_type": "stream",
     "text": [
      "<class 'numpy.ndarray'>\n",
      "[[0 1 2]\n",
      " [3 4 5]\n",
      " [6 7 8]]\n"
     ]
    }
   ],
   "source": [
    "\n",
    "numpy_two_dimensional_list = np.array(two_dimensional_list)\n",
    "print(type (numpy_two_dimensional_list))\n",
    "print(numpy_two_dimensional_list)"
   ]
  },
  {
   "cell_type": "code",
   "execution_count": 12,
   "metadata": {},
   "outputs": [
    {
     "data": {
      "text/plain": [
       "array([1, 2, 3, 4, 5])"
      ]
     },
     "execution_count": 12,
     "metadata": {},
     "output_type": "execute_result"
    }
   ],
   "source": [
    "numpy_array_from_list"
   ]
  },
  {
   "cell_type": "code",
   "execution_count": 13,
   "metadata": {},
   "outputs": [
    {
     "data": {
      "text/plain": [
       "array([[0, 1, 2],\n",
       "       [3, 4, 5],\n",
       "       [6, 7, 8]])"
      ]
     },
     "execution_count": 13,
     "metadata": {},
     "output_type": "execute_result"
    }
   ],
   "source": [
    "numpy_two_dimensional_list"
   ]
  },
  {
   "cell_type": "markdown",
   "metadata": {},
   "source": [
    "### Converting numpy array to list"
   ]
  },
  {
   "cell_type": "code",
   "execution_count": 14,
   "metadata": {},
   "outputs": [
    {
     "name": "stdout",
     "output_type": "stream",
     "text": [
      "<class 'list'>\n",
      "one dimensional array: [1, 2, 3, 4, 5]\n",
      "two dimensional array:  [[0, 1, 2], [3, 4, 5], [6, 7, 8]]\n"
     ]
    }
   ],
   "source": [
    "# We can always convert an array back to a python list using tolist().\n",
    "np_to_list = numpy_array_from_list.tolist()\n",
    "print(type (np_to_list))\n",
    "print('one dimensional array:', np_to_list)\n",
    "print('two dimensional array: ', numpy_two_dimensional_list.tolist())"
   ]
  },
  {
   "cell_type": "code",
   "execution_count": 15,
   "metadata": {},
   "outputs": [
    {
     "data": {
      "text/plain": [
       "array([[0, 1, 2],\n",
       "       [3, 4, 5],\n",
       "       [6, 7, 8]])"
      ]
     },
     "execution_count": 15,
     "metadata": {},
     "output_type": "execute_result"
    }
   ],
   "source": [
    "numpy_two_dimensional_list"
   ]
  },
  {
   "cell_type": "markdown",
   "metadata": {},
   "source": [
    "## Creating numpy array from tuple"
   ]
  },
  {
   "cell_type": "code",
   "execution_count": 16,
   "metadata": {},
   "outputs": [
    {
     "name": "stdout",
     "output_type": "stream",
     "text": [
      "<class 'tuple'>\n",
      "python_tuple:  (1, 2, 3, 4, 5)\n",
      "<class 'numpy.ndarray'>\n",
      "numpy_array_from_tuple:  [1 2 3 4 5]\n"
     ]
    }
   ],
   "source": [
    "# Numpy array from tuple\n",
    "\n",
    "# Creating tuple in Python\n",
    "\n",
    "python_tuple = (1,2,3,4,5)\n",
    "print(type (python_tuple))\n",
    "print('python_tuple: ', python_tuple)\n",
    "\n",
    "numpy_array_from_tuple = np.array(python_tuple)\n",
    "print(type (numpy_array_from_tuple))\n",
    "print('numpy_array_from_tuple: ', numpy_array_from_tuple)"
   ]
  },
  {
   "cell_type": "code",
   "execution_count": 17,
   "metadata": {},
   "outputs": [
    {
     "data": {
      "text/plain": [
       "array([1, 2, 3, 4, 5])"
      ]
     },
     "execution_count": 17,
     "metadata": {},
     "output_type": "execute_result"
    }
   ],
   "source": [
    "numpy_array_from_tuple"
   ]
  },
  {
   "cell_type": "markdown",
   "metadata": {},
   "source": [
    "## Shape of numpy array\n",
    "The shape method provide the shape of the array as a tuple. The first is the row and the second is the column"
   ]
  },
  {
   "cell_type": "code",
   "execution_count": 18,
   "metadata": {},
   "outputs": [
    {
     "name": "stdout",
     "output_type": "stream",
     "text": [
      "[1 2 3 4 5]\n",
      "shape of nums:  (5,)\n",
      "[[0 1 2]\n",
      " [3 4 5]\n",
      " [6 7 8]]\n",
      "shape of numpy_two_dimensional_list:  (3, 3)\n",
      "(3, 4)\n"
     ]
    }
   ],
   "source": [
    "nums = np.array([1, 2, 3, 4, 5])\n",
    "print(nums)\n",
    "print('shape of nums: ', nums.shape)\n",
    "print(numpy_two_dimensional_list)\n",
    "print('shape of numpy_two_dimensional_list: ', numpy_two_dimensional_list.shape)\n",
    "three_by_four_array = np.array([[0, 1, 2, 3],\n",
    "       [4,5,6,7],\n",
    "       [8,9,10, 11]])\n",
    "print(three_by_four_array.shape)"
   ]
  },
  {
   "cell_type": "markdown",
   "metadata": {},
   "source": [
    "## Data type of numpy array\n",
    "\n",
    "Type of data types: str, int, float, complex, bool, list, None"
   ]
  },
  {
   "cell_type": "code",
   "execution_count": 19,
   "metadata": {},
   "outputs": [
    {
     "name": "stdout",
     "output_type": "stream",
     "text": [
      "[-3 -2 -1  0  1  2  3]\n",
      "int64\n",
      "[-3. -2. -1.  0.  1.  2.  3.]\n",
      "float64\n"
     ]
    }
   ],
   "source": [
    "int_lists = [-3, -2, -1, 0, 1, 2,3]\n",
    "int_array = np.array(int_lists)\n",
    "float_array = np.array(int_lists, dtype=float)\n",
    "\n",
    "print(int_array)\n",
    "print(int_array.dtype)\n",
    "print(float_array)\n",
    "print(float_array.dtype)\n"
   ]
  },
  {
   "cell_type": "markdown",
   "metadata": {},
   "source": [
    "## Size of a numpy array\n",
    "Instead of len size is used to get the length of items in a numpy array"
   ]
  },
  {
   "cell_type": "code",
   "execution_count": 20,
   "metadata": {},
   "outputs": [
    {
     "data": {
      "text/plain": [
       "5"
      ]
     },
     "execution_count": 20,
     "metadata": {},
     "output_type": "execute_result"
    }
   ],
   "source": [
    "numpy_array_from_list.size"
   ]
  },
  {
   "cell_type": "code",
   "execution_count": 21,
   "metadata": {},
   "outputs": [
    {
     "data": {
      "text/plain": [
       "9"
      ]
     },
     "execution_count": 21,
     "metadata": {},
     "output_type": "execute_result"
    }
   ],
   "source": [
    "numpy_two_dimensional_list.size"
   ]
  },
  {
   "cell_type": "markdown",
   "metadata": {},
   "source": [
    "### Mathematical Operation\n",
    "\n"
   ]
  },
  {
   "cell_type": "code",
   "execution_count": 22,
   "metadata": {},
   "outputs": [
    {
     "name": "stdout",
     "output_type": "stream",
     "text": [
      "original array:  [1 2 3 4 5]\n",
      "[11 12 13 14 15]\n",
      "[-9 -8 -7 -6 -5]\n",
      "[10 20 30 40 50]\n"
     ]
    }
   ],
   "source": [
    "# Mathematical Operation\n",
    "\n",
    "# Addition\n",
    "print('original array: ', numpy_array_from_list)\n",
    "ten_plus_original = numpy_array_from_list  + 10\n",
    "print(ten_plus_original)\n",
    "ten_minus_original = numpy_array_from_list  - 10\n",
    "print(ten_minus_original)\n",
    "# Multiplication\n",
    "ten_times_original = numpy_array_from_list * 10\n",
    "print(ten_times_original)"
   ]
  },
  {
   "cell_type": "code",
   "execution_count": 23,
   "metadata": {},
   "outputs": [
    {
     "name": "stdout",
     "output_type": "stream",
     "text": [
      "float64\n",
      "float64\n"
     ]
    }
   ],
   "source": [
    "# Float numbers\n",
    "\n",
    "numpy_float_list = np.array([1.1, 2.0,3.2])\n",
    "numpy_float_list2 = np.array([1.1,2.0,3.2])\n",
    "print(numpy_float_list2.dtype)\n",
    "print(numpy_float_list.dtype)"
   ]
  },
  {
   "cell_type": "markdown",
   "metadata": {},
   "source": [
    "## Converting type from float to int"
   ]
  },
  {
   "cell_type": "code",
   "execution_count": 24,
   "metadata": {},
   "outputs": [
    {
     "data": {
      "text/plain": [
       "array([1, 2, 3])"
      ]
     },
     "execution_count": 24,
     "metadata": {},
     "output_type": "execute_result"
    }
   ],
   "source": [
    "# Converting type from float to int\n",
    "numpy_float_list.astype('int')\n"
   ]
  },
  {
   "cell_type": "code",
   "execution_count": 25,
   "metadata": {},
   "outputs": [
    {
     "data": {
      "text/plain": [
       "array(['1', '2', '3'], dtype='<U21')"
      ]
     },
     "execution_count": 25,
     "metadata": {},
     "output_type": "execute_result"
    }
   ],
   "source": [
    "# Converting type from int to str\n",
    "numpy_float_list.astype('int').astype('str')"
   ]
  },
  {
   "cell_type": "markdown",
   "metadata": {},
   "source": [
    "## Dimensional Arrays"
   ]
  },
  {
   "cell_type": "code",
   "execution_count": 26,
   "metadata": {},
   "outputs": [
    {
     "name": "stdout",
     "output_type": "stream",
     "text": [
      "<class 'numpy.ndarray'>\n",
      "[[1 2 3]\n",
      " [4 5 6]\n",
      " [7 8 9]]\n",
      "Shape:  (3, 3)\n",
      "Size: 9\n",
      "Data type: int64\n"
     ]
    }
   ],
   "source": [
    "# 2 Dimension Array\n",
    "two_dimension_array = np.array([(1,2,3),(4,5,6), (7,8,9)])\n",
    "print(type (two_dimension_array))\n",
    "print(two_dimension_array)\n",
    "print('Shape: ', two_dimension_array.shape)\n",
    "print('Size:', two_dimension_array.size)\n",
    "print('Data type:', two_dimension_array.dtype)\n"
   ]
  },
  {
   "cell_type": "code",
   "execution_count": 27,
   "metadata": {},
   "outputs": [
    {
     "data": {
      "text/plain": [
       "array([[1, 2, 3],\n",
       "       [4, 5, 6],\n",
       "       [7, 8, 9]])"
      ]
     },
     "execution_count": 27,
     "metadata": {},
     "output_type": "execute_result"
    }
   ],
   "source": [
    "two_dimension_array"
   ]
  },
  {
   "cell_type": "markdown",
   "metadata": {},
   "source": [
    "## How to extract specific items from an array?"
   ]
  },
  {
   "cell_type": "code",
   "execution_count": 28,
   "metadata": {},
   "outputs": [
    {
     "name": "stdout",
     "output_type": "stream",
     "text": [
      "First row: [1 2 3]\n",
      "Second row: [4 5 6]\n",
      "Third row:  [7 8 9]\n"
     ]
    }
   ],
   "source": [
    "first_row = two_dimension_array[0]\n",
    "second_row = two_dimension_array[1]\n",
    "third_row = two_dimension_array[2]\n",
    "print('First row:', first_row)\n",
    "print('Second row:', second_row)\n",
    "print('Third row: ', third_row)\n"
   ]
  },
  {
   "cell_type": "code",
   "execution_count": 29,
   "metadata": {},
   "outputs": [
    {
     "name": "stdout",
     "output_type": "stream",
     "text": [
      "First column: [1 4 7]\n",
      "Second column: [2 5 8]\n",
      "Third column:  [3 6 9]\n",
      "[[1 2 3]\n",
      " [4 5 6]\n",
      " [7 8 9]]\n"
     ]
    }
   ],
   "source": [
    "first_column= two_dimension_array[:,0]\n",
    "second_column = two_dimension_array[:,1]\n",
    "third_column = two_dimension_array[:,2]\n",
    "print('First column:', first_column)\n",
    "print('Second column:', second_column)\n",
    "print('Third column: ', third_column)\n",
    "print(two_dimension_array)"
   ]
  },
  {
   "cell_type": "markdown",
   "metadata": {},
   "source": [
    "Slicing in numpy is similar to list"
   ]
  },
  {
   "cell_type": "code",
   "execution_count": 30,
   "metadata": {},
   "outputs": [
    {
     "data": {
      "text/plain": [
       "array([[1, 2],\n",
       "       [4, 5]])"
      ]
     },
     "execution_count": 30,
     "metadata": {},
     "output_type": "execute_result"
    }
   ],
   "source": [
    "first_two_rows_and_columns = two_dimension_array[0:2, 0:2]\n",
    "first_two_rows_and_columns"
   ]
  },
  {
   "cell_type": "markdown",
   "metadata": {},
   "source": [
    "## How to reverse the rows and the whole array?"
   ]
  },
  {
   "cell_type": "code",
   "execution_count": 31,
   "metadata": {},
   "outputs": [
    {
     "data": {
      "text/plain": [
       "array([[1, 2, 3],\n",
       "       [4, 5, 6],\n",
       "       [7, 8, 9]])"
      ]
     },
     "execution_count": 31,
     "metadata": {},
     "output_type": "execute_result"
    }
   ],
   "source": [
    "two_dimension_array[::]"
   ]
  },
  {
   "cell_type": "markdown",
   "metadata": {},
   "source": [
    "### Reverse only the row positions"
   ]
  },
  {
   "cell_type": "code",
   "execution_count": 32,
   "metadata": {},
   "outputs": [
    {
     "data": {
      "text/plain": [
       "array([[7, 8, 9],\n",
       "       [4, 5, 6],\n",
       "       [1, 2, 3]])"
      ]
     },
     "execution_count": 32,
     "metadata": {},
     "output_type": "execute_result"
    }
   ],
   "source": [
    "two_dimension_array[::-1,]"
   ]
  },
  {
   "cell_type": "markdown",
   "metadata": {},
   "source": [
    "### Reverse the row and column positions"
   ]
  },
  {
   "cell_type": "code",
   "execution_count": 33,
   "metadata": {},
   "outputs": [
    {
     "data": {
      "text/plain": [
       "array([[9, 8, 7],\n",
       "       [6, 5, 4],\n",
       "       [3, 2, 1]])"
      ]
     },
     "execution_count": 33,
     "metadata": {},
     "output_type": "execute_result"
    }
   ],
   "source": [
    "two_dimension_array[::-1,::-1]"
   ]
  },
  {
   "cell_type": "markdown",
   "metadata": {},
   "source": [
    "## How to represent missing values and infinite?"
   ]
  },
  {
   "cell_type": "code",
   "execution_count": 34,
   "metadata": {},
   "outputs": [
    {
     "name": "stdout",
     "output_type": "stream",
     "text": [
      "[[1 2 3]\n",
      " [4 5 6]\n",
      " [7 8 9]]\n",
      "[[ 1  2  3]\n",
      " [ 4 55 44]\n",
      " [ 7  8  9]]\n"
     ]
    }
   ],
   "source": [
    "print(two_dimension_array)\n",
    "two_dimension_array[1,1] = 55\n",
    "two_dimension_array[1,2] =44\n",
    "print(two_dimension_array)"
   ]
  },
  {
   "cell_type": "code",
   "execution_count": 35,
   "metadata": {},
   "outputs": [
    {
     "data": {
      "text/plain": [
       "array([[0, 0, 0],\n",
       "       [0, 0, 0],\n",
       "       [0, 0, 0]])"
      ]
     },
     "execution_count": 35,
     "metadata": {},
     "output_type": "execute_result"
    }
   ],
   "source": [
    "# Numpy Zeroes\n",
    "# numpy.zeros(shape, dtype=float, order='C')\n",
    "numpy_zeroes = np.zeros((3,3),dtype=int,order='C')\n",
    "numpy_zeroes"
   ]
  },
  {
   "cell_type": "code",
   "execution_count": 36,
   "metadata": {},
   "outputs": [
    {
     "name": "stdout",
     "output_type": "stream",
     "text": [
      "[[1 1 1]\n",
      " [1 1 1]\n",
      " [1 1 1]]\n"
     ]
    }
   ],
   "source": [
    "# Numpy Zeroes\n",
    "numpy_ones = np.ones((3,3),dtype=int,order='C')\n",
    "print(numpy_ones)"
   ]
  },
  {
   "cell_type": "code",
   "execution_count": 37,
   "metadata": {},
   "outputs": [],
   "source": [
    "twoes = numpy_ones * 2"
   ]
  },
  {
   "cell_type": "code",
   "execution_count": 38,
   "metadata": {},
   "outputs": [
    {
     "name": "stdout",
     "output_type": "stream",
     "text": [
      "[[1 2 3]\n",
      " [4 5 6]]\n",
      "[[1 2]\n",
      " [3 4]\n",
      " [5 6]]\n"
     ]
    }
   ],
   "source": [
    "# Reshape\n",
    "# numpy.reshape(), numpy.flatten()\n",
    "first_shape  = np.array([(1,2,3), (4,5,6)])\n",
    "print(first_shape)\n",
    "reshaped = first_shape.reshape(3,2)\n",
    "print(reshaped)\n"
   ]
  },
  {
   "cell_type": "code",
   "execution_count": 39,
   "metadata": {},
   "outputs": [
    {
     "data": {
      "text/plain": [
       "array([1, 2, 3, 4, 5, 6])"
      ]
     },
     "execution_count": 39,
     "metadata": {},
     "output_type": "execute_result"
    }
   ],
   "source": [
    "flattened = reshaped.flatten()\n",
    "flattened"
   ]
  },
  {
   "cell_type": "code",
   "execution_count": 40,
   "metadata": {},
   "outputs": [
    {
     "name": "stdout",
     "output_type": "stream",
     "text": [
      "[5 7 9]\n",
      "Horizontal Append: [1 2 3 4 5 6]\n"
     ]
    }
   ],
   "source": [
    "## Horitzontal Stack\n",
    "np_list_one = np.array([1,2,3])\n",
    "np_list_two = np.array([4,5,6])\n",
    "\n",
    "print(np_list_one + np_list_two)\n",
    "\n",
    "print('Horizontal Append:', np.hstack((np_list_one, np_list_two)))"
   ]
  },
  {
   "cell_type": "code",
   "execution_count": 41,
   "metadata": {},
   "outputs": [
    {
     "name": "stdout",
     "output_type": "stream",
     "text": [
      "Vertical Append: [[1 2 3]\n",
      " [4 5 6]]\n"
     ]
    }
   ],
   "source": [
    "## Vertical Stack\n",
    "print('Vertical Append:', np.vstack((np_list_one, np_list_two)))"
   ]
  },
  {
   "cell_type": "markdown",
   "metadata": {},
   "source": [
    "#### Generating Random Numbers"
   ]
  },
  {
   "cell_type": "code",
   "execution_count": 42,
   "metadata": {},
   "outputs": [
    {
     "data": {
      "text/plain": [
       "0.4630296991512015"
      ]
     },
     "execution_count": 42,
     "metadata": {},
     "output_type": "execute_result"
    }
   ],
   "source": [
    "# Generate a random float  number\n",
    "random_float = np.random.random()\n",
    "random_float"
   ]
  },
  {
   "cell_type": "code",
   "execution_count": 43,
   "metadata": {},
   "outputs": [
    {
     "data": {
      "text/plain": [
       "array([0.95355974, 0.53180315, 0.39419217, 0.49851122, 0.96171274])"
      ]
     },
     "execution_count": 43,
     "metadata": {},
     "output_type": "execute_result"
    }
   ],
   "source": [
    "# Generate a random float  number\n",
    "random_floats = np.random.random(5)\n",
    "random_floats"
   ]
  },
  {
   "cell_type": "code",
   "execution_count": 44,
   "metadata": {},
   "outputs": [
    {
     "data": {
      "text/plain": [
       "10"
      ]
     },
     "execution_count": 44,
     "metadata": {},
     "output_type": "execute_result"
    }
   ],
   "source": [
    "# Generating a random integers between 0 and 10\n",
    "random_int = np.random.randint(0, 11)\n",
    "random_int"
   ]
  },
  {
   "cell_type": "code",
   "execution_count": 45,
   "metadata": {},
   "outputs": [
    {
     "data": {
      "text/plain": [
       "array([8, 9, 5, 5])"
      ]
     },
     "execution_count": 45,
     "metadata": {},
     "output_type": "execute_result"
    }
   ],
   "source": [
    "# Generating a random integers between 2 and 11, and creating a one row array\n",
    "random_int = np.random.randint(2,10, size=4)\n",
    "random_int"
   ]
  },
  {
   "cell_type": "code",
   "execution_count": 46,
   "metadata": {},
   "outputs": [
    {
     "data": {
      "text/plain": [
       "array([[4, 6, 5],\n",
       "       [3, 2, 7],\n",
       "       [4, 7, 7]])"
      ]
     },
     "execution_count": 46,
     "metadata": {},
     "output_type": "execute_result"
    }
   ],
   "source": [
    "# Generating a random integers between 0 and 10\n",
    "random_int = np.random.randint(2,10, size=(3,3))\n",
    "random_int"
   ]
  },
  {
   "cell_type": "code",
   "execution_count": 47,
   "metadata": {},
   "outputs": [
    {
     "data": {
      "text/plain": [
       "array([ 78.5980182 ,  66.64379671,  79.30459404,  76.70219773,\n",
       "        86.17331002,  62.04999578,  71.92703472,  82.67141489,\n",
       "        89.61543652,  57.9020039 ,  72.64912105,  31.44089636,\n",
       "        77.95269564,  80.34558019,  72.20727615,  67.52878675,\n",
       "        82.85243416,  93.60264299,  84.19075499, 103.18047371,\n",
       "        71.92241313,  85.78428861,  81.41148679,  89.32078713,\n",
       "        84.6757251 ,  80.33996649,  69.28686807,  65.75435915,\n",
       "        50.63313368,  63.42491708, 106.54968345,  62.31660777,\n",
       "        98.16874855,  73.04153033,  74.84737774,  89.95726784,\n",
       "        94.39255714,  80.14436222,  62.61969671,  84.49312556,\n",
       "       103.01508113,  77.61224229,  74.431812  ,  83.68773789,\n",
       "       117.02022091,  46.36787027, 106.31349027,  55.10460249,\n",
       "        86.00511907,  54.63901255,  76.8824422 ,  96.56383288,\n",
       "        73.16069359,  78.25032475,  43.71409377,  76.53868   ,\n",
       "        70.10109152,  72.9007768 ,  49.84261779, 109.7861359 ,\n",
       "        82.42063248,  93.55430885,  84.40192956,  91.43473861,\n",
       "        69.86449958,  95.09690664,  87.89698705,  66.98834198,\n",
       "        84.5356001 ,  61.29410976,  90.96334834,  60.11726113,\n",
       "        84.89353367,  94.41997069,  65.84213119,  85.83752105,\n",
       "        59.715887  ,  64.65648002,  73.67469399,  64.25809932,\n",
       "        92.62904061,  71.87050564,  75.48486783,  71.33838453,\n",
       "        70.02459894,  74.23983915,  49.52515047,  73.42739015,\n",
       "        91.84462863,  74.3430444 ,  94.69898054,  84.07971074,\n",
       "        62.22704843,  80.75571288,  49.43080443,  98.95310286,\n",
       "        87.04048783,  52.87866266,  58.71359699,  63.34442016,\n",
       "        93.9913791 ,  73.59004252,  77.72554192, 111.83446225,\n",
       "        80.43588546,  92.72585139,  97.01126094,  79.90799305,\n",
       "        76.89980005,  92.21287943,  77.21232952,  67.97336342,\n",
       "        59.61001633,  73.20934427,  60.50717609,  58.08578917,\n",
       "        58.06577179,  81.33809332,  85.87866842,  75.78043778,\n",
       "        73.10637985,  70.2357143 ,  80.83799021,  62.14442652,\n",
       "        68.07645408,  76.22571946,  70.12714947,  97.4070893 ,\n",
       "        59.82295631,  87.63396988,  49.32805268,  82.76014672,\n",
       "        58.42636434,  74.58228083,  63.3708762 ,  83.18948936,\n",
       "        73.14038594,  90.8184548 ,  72.0783129 ,  81.14766405,\n",
       "        87.34546762,  98.7655465 ,  67.56143283,  95.83476942,\n",
       "        59.05593555, 101.54260067,  75.31266798,  69.91895351,\n",
       "        67.34006743,  86.32134433,  74.33951324,  65.250053  ,\n",
       "        76.23143021,  65.98472964,  77.45333147,  82.72980021,\n",
       "        77.88081139,  82.48793804,  68.50077551,  63.40672399,\n",
       "        63.71186463,  76.6973961 ,  65.03327799,  71.27853726,\n",
       "        68.45980965,  75.17701381,  76.92779107,  72.61509704,\n",
       "        66.07046044,  84.55158399,  92.40632359,  92.53118955,\n",
       "        66.51318512,  98.38264197,  69.62480885,  78.2893472 ,\n",
       "        99.46143959,  76.45422666,  86.78708146,  81.35060329,\n",
       "        52.15565796,  48.81380563,  88.1757022 ,  79.48611272,\n",
       "        89.95302061,  92.23029104,  64.3422564 , 105.71380991,\n",
       "        86.21015995,  62.46528424,  86.55736334, 108.857428  ,\n",
       "        94.6543155 ,  76.81801437,  82.46787401,  82.08306053,\n",
       "        80.30950458,  78.27557765,  80.66515108,  61.34283174,\n",
       "        99.51365521,  31.77841393,  79.9087182 ,  89.36097317,\n",
       "        67.21674701,  89.14524433,  66.5988294 ,  85.07318716,\n",
       "        74.82607349,  75.45630923,  96.04104493,  81.80817256,\n",
       "        99.25361995,  61.87574166,  61.54096161,  72.95788621,\n",
       "        66.31015244,  72.30883028,  82.11534732,  65.28393891,\n",
       "        99.81548869,  55.74994189,  82.09267101,  96.30748325,\n",
       "        91.03451014,  64.96947881,  83.84388159,  82.90584116,\n",
       "        63.88688405,  74.66824431,  73.26776843,  87.85995215,\n",
       "        96.42837233,  79.24371958,  81.96146436,  79.89855114,\n",
       "        71.30014167,  87.41756428, 107.23701498,  83.8957577 ,\n",
       "        82.47841359,  84.40532533,  84.43197653,  78.76379134,\n",
       "        90.24522718,  68.57304069,  79.78854328, 103.48306067,\n",
       "        79.58688103,  81.89413123,  86.08178784,  80.58143904,\n",
       "        72.02361532,  80.74018206, 107.8347467 ,  69.53447223,\n",
       "        77.39907119,  78.47456894,  67.41737721,  79.69479435,\n",
       "        81.86006317,  53.22503177,  70.79580791,  81.85749724,\n",
       "        32.59080271,  67.73992408,  84.87695487,  96.14342869,\n",
       "       103.59713241,  87.94437964,  95.07708099,  52.37888191,\n",
       "        76.84523258,  57.45315725,  77.39841581,  85.95880415,\n",
       "        96.87091856,  84.00426012, 105.7294834 ,  94.39715386,\n",
       "        80.73943944,  85.35626167,  47.80416744,  91.08665842,\n",
       "        73.85573155,  64.82378973,  63.00471849,  89.80109267,\n",
       "        82.79983398,  59.53995254,  55.46110494,  78.88396889,\n",
       "        79.66655837,  82.61258012,  92.33545127,  92.01752269,\n",
       "        63.24116425,  58.22010894,  67.38028777, 101.12641399,\n",
       "       105.23532982,  73.61360529,  86.10321902,  78.93800707,\n",
       "        68.44753434,  83.22622375,  81.4057133 ,  57.72787659,\n",
       "        64.10421216,  88.22329045,  99.52472336, 115.66017984,\n",
       "        40.31656668,  64.86171212,  54.50927859,  81.20979605,\n",
       "       111.33507522,  46.41394185, 108.83486704,  73.17229657,\n",
       "        67.31885948, 112.64093035,  77.41275027, 100.37818375,\n",
       "       112.32169407,  93.55793182,  56.16338602,  78.98770412,\n",
       "        75.08217919,  74.30878916,  68.81030291,  75.84951449,\n",
       "        79.00823641,  99.071454  ,  73.73343962,  90.88059516,\n",
       "        84.2270934 ,  69.3558029 ,  65.92551303,  95.2280808 ,\n",
       "       116.47806555,  69.81562017,  79.44730791,  79.24542172,\n",
       "        89.36537973,  84.3006088 ,  79.93754302,  70.96939587,\n",
       "       106.9730293 ,  49.71491736,  66.30201251,  86.83656353,\n",
       "        65.17196001,  75.77255996, 107.98339309,  86.94376534,\n",
       "        80.34946792,  91.57241155,  60.80025767,  83.84311567,\n",
       "        80.96963845,  64.19795621,  92.819739  ,  95.9477613 ,\n",
       "        68.23586427,  61.07902581,  94.28727554,  46.62944526,\n",
       "        71.88119471,  57.89085746,  69.40886526,  68.46540092,\n",
       "        60.20612973,  97.9482825 ,  81.89045408,  70.32396559,\n",
       "        87.78694515,  79.58761103, 102.67337162,  44.9592117 ,\n",
       "        79.84639674,  81.14461323,  66.51879999,  81.67242248,\n",
       "        72.73190959,  69.47727191,  87.64874784,  62.80728426,\n",
       "        91.95619112, 100.49200665,  87.44661208,  90.52482299,\n",
       "        73.37322455,  84.8372343 ,  84.74142146,  64.01132324,\n",
       "        86.0536359 ,  90.85042795,  98.14902816,  78.69581605,\n",
       "        91.33470806,  86.60560282,  71.76705973,  45.38704761,\n",
       "        55.81370219,  77.32228964,  74.325844  ,  77.44925044,\n",
       "        86.72724344,  89.10463867, 107.49989054,  75.7989636 ,\n",
       "        94.2465276 ,  73.59629951,  73.18535194,  52.00210715,\n",
       "        78.52915812,  74.75889942,  88.56728192,  75.47162215,\n",
       "        66.66363588,  70.75719595, 101.77394146,  65.56418921,\n",
       "        95.12411453, 102.14269553,  84.69637755,  76.29905624,\n",
       "        87.85926233,  72.78795204,  77.23468337,  70.05436766,\n",
       "        93.62605166,  65.20481245,  96.31050049,  46.54934738,\n",
       "        72.78849616,  81.0645483 , 103.33996513,  95.94161514,\n",
       "        79.63082669, 104.06591522,  85.02075147,  76.18859458,\n",
       "        84.735789  , 112.12056187,  85.90866025, 101.21736522,\n",
       "        96.02345961,  69.13814436, 103.5051789 ,  70.15084941,\n",
       "        93.53217783,  63.32220858, 106.1114765 ,  90.43934673,\n",
       "        93.24838153,  91.47016007,  78.47088398,  90.78494385,\n",
       "        93.16655433,  77.81382994,  68.62733786,  88.98909948,\n",
       "        83.36877229,  92.95212955,  70.86369081,  74.44492588,\n",
       "        68.33192165,  79.43494833,  88.41650958, 106.64551982,\n",
       "        78.72434487,  53.77008378, 106.90490993,  90.54483287,\n",
       "       116.71355618,  86.16708006,  84.72413806,  75.92230755,\n",
       "        65.79202625,  68.26403862,  86.24799252,  85.69867215,\n",
       "        71.0133786 ,  91.15456212,  52.24242059,  74.55473386,\n",
       "        68.61913974,  96.86057884,  40.33847319,  53.6060088 ,\n",
       "        84.80391849, 104.62501087,  86.36174386,  49.42452604,\n",
       "        75.43667164,  73.98054243,  50.71851161,  89.03789863,\n",
       "        58.81122682,  88.42421253,  86.06419939,  92.05236692,\n",
       "        94.25984948,  77.88686834,  69.91483021,  78.48917576,\n",
       "        60.37748379,  77.40632753,  57.60171573,  69.9063262 ,\n",
       "       100.51614478,  93.82912857,  99.43609025,  57.61232533,\n",
       "        63.06185514,  70.50870383,  98.74793174,  91.55032223,\n",
       "        96.31340432,  83.86983365, 115.12463493,  71.50144944,\n",
       "        74.52079279,  75.80782305,  90.13374624,  96.73480263,\n",
       "        72.53151352,  52.17691965,  70.50394116,  88.05799861,\n",
       "        99.05015305,  37.15554273,  95.68229044,  71.57322835,\n",
       "        81.91718555,  72.75829843,  69.10319116,  79.46753737,\n",
       "        78.38452103,  84.69120088,  70.69230318,  59.34764021,\n",
       "        65.96001358,  85.99403146,  92.18432557,  78.0130889 ,\n",
       "        63.82600698,  89.35331693,  52.83222185,  83.52515013,\n",
       "        73.46726439,  79.65746764,  84.59669293,  75.1212682 ,\n",
       "        61.64019391,  91.33873672,  71.36253245,  55.4089015 ,\n",
       "        60.68235751,  72.83150777,  90.63981564,  67.06083244,\n",
       "        82.01359791,  47.01592527,  73.91352295,  87.66326666,\n",
       "        59.03603154,  87.47472519,  69.82713317,  89.57695216,\n",
       "       108.45493126,  67.40936927, 135.99554243,  87.58409751,\n",
       "       102.05353581,  87.77160127,  91.19462858,  54.33679624,\n",
       "        66.57604125,  64.56595851,  67.55323995,  95.48923002,\n",
       "        89.11694218,  73.61942575, 106.67171893,  63.61315666,\n",
       "        95.04060133,  71.96236545,  82.48128777,  62.06456011,\n",
       "        69.41814134,  84.37545672,  66.21697502,  69.57461584,\n",
       "        72.78694927,  56.85505543,  76.46142312,  89.04544406,\n",
       "        67.98724315,  88.30765415,  78.43225925,  72.79509089,\n",
       "        65.36172917,  87.65792539,  76.38334488,  82.41668048,\n",
       "        99.49919245,  44.6462387 ,  71.26727357,  73.3435636 ,\n",
       "        85.49817856,  87.33964844,  90.61815242,  84.82335056,\n",
       "       105.67470547,  68.72314146,  89.71786428,  86.48823992,\n",
       "        87.00541433,  78.48435995,  78.1684398 ,  76.60236249,\n",
       "        81.49001687,  61.57120712,  76.98011028,  66.15932738,\n",
       "        95.69390667,  97.49454226,  74.87623417,  88.53959133,\n",
       "        77.2702714 ,  90.65742675,  86.88332721,  68.43777017,\n",
       "        70.7057776 ,  67.84575428,  81.30431023,  65.40409556,\n",
       "        59.95962053,  82.90617616,  94.17942438,  75.48189803,\n",
       "        50.66052583, 103.01149493,  80.61564027,  82.20389041,\n",
       "        99.67835401, 104.71697716,  88.71256004,  89.45904978,\n",
       "        57.69393823,  79.76739412,  84.18493442,  90.86579257,\n",
       "        86.38641688,  49.17088671,  69.76418772,  68.26640598,\n",
       "        98.48340074,  71.70477709,  76.1566971 ,  76.67798197,\n",
       "       118.43971951,  73.91458626,  85.64419593,  73.31145805,\n",
       "       102.88947415,  78.51119976,  64.75957126,  71.95117969,\n",
       "        83.01349006,  99.209545  , 115.24583062,  62.35155607,\n",
       "        91.97750681,  86.27628108,  78.98864249,  75.44648756,\n",
       "        98.64032267,  82.22305653,  94.25576886,  69.7988258 ,\n",
       "        70.01142218,  91.03078294,  74.24717392,  73.15383137,\n",
       "        94.79257585,  66.18667885,  94.32305443,  65.52077862,\n",
       "        87.85857738,  82.64329999,  78.54271785,  82.54741334,\n",
       "        90.61530375,  80.48888733,  90.59127407,  89.09562153,\n",
       "        96.93382807, 111.04662398,  42.80209367,  89.77047953,\n",
       "        50.14339149,  85.00501271,  68.50172873,  90.25590707,\n",
       "        72.19976963,  85.90574624,  66.99565795,  69.96081545,\n",
       "        53.61693915,  80.45656438,  81.79841732,  78.4394971 ,\n",
       "        51.44791722,  70.21846444,  63.30558459,  60.12192326,\n",
       "        91.18485051,  74.96542219,  54.02997763,  83.83878707,\n",
       "        86.07229373,  95.60800718,  84.43789803,  88.90530981,\n",
       "        67.77360214,  97.32666986,  98.82251225,  88.57666995,\n",
       "        75.71644821, 103.64630581,  88.68653482,  99.65175427,\n",
       "        96.06245494,  84.48152056,  52.77333929,  50.84981112,\n",
       "        79.89433863, 102.80151012,  55.25084501,  95.9348544 ,\n",
       "        54.06123514,  91.36532193,  94.77174096,  83.59598676,\n",
       "        95.57898231,  79.55616895,  86.40680575,  83.16502241,\n",
       "        85.082344  ,  88.86790238,  68.17405961,  64.66349221,\n",
       "        86.89579316,  91.96046606, 104.90253917,  92.40400446,\n",
       "        85.44798982,  95.28952474,  67.51097733,  94.08198325,\n",
       "        80.22702099,  69.81866901,  96.2510691 ,  75.55791364,\n",
       "        80.54718016,  65.79280032,  63.07132843,  75.88471407,\n",
       "        51.91863442,  79.62557946,  41.22063949,  70.57386287,\n",
       "        61.05154644,  77.17575641,  48.01943622,  70.8537454 ,\n",
       "        82.69406159,  94.94400177,  65.00992486,  57.40487767,\n",
       "        50.4003065 ,  47.39599445,  84.78418951,  96.33950865,\n",
       "        87.08584696,  90.26603952,  92.61443191,  72.59659401,\n",
       "        80.73355118,  59.87219616,  58.31282935,  87.26684512,\n",
       "        77.04309869,  77.48778589,  87.13245307,  77.91625795,\n",
       "        80.19369448,  51.48724829,  94.46466987,  82.04240717,\n",
       "        67.27526337,  66.40546897, 100.21305024,  81.2380642 ,\n",
       "        71.09286799,  56.22629329,  82.38981872,  66.97767337,\n",
       "        56.75115873,  52.65989484,  85.43470655, 104.46721383,\n",
       "        65.68019889,  79.45853798,  86.73865012,  76.90607763,\n",
       "        75.94402921,  88.12567566,  67.71808535,  97.58519496,\n",
       "        61.41833314, 102.68398175,  71.96318186,  90.45510995,\n",
       "        91.5621535 ,  90.28287571,  65.82020341,  94.30446694,\n",
       "        64.97348514,  59.94972486, 110.36862232,  74.7723382 ,\n",
       "        97.6672304 ,  84.75285598,  87.12030658,  45.12976371,\n",
       "        72.24980326,  84.15863331,  58.10378718,  93.39323054,\n",
       "        72.1540437 ,  66.31793021,  71.90385834, 115.73169929,\n",
       "        80.5030308 ,  74.77870916,  85.1435164 ,  67.1642544 ,\n",
       "        72.95278094,  53.34484838,  45.77732859,  86.86166694,\n",
       "        75.07825494,  74.25067304,  69.03904897,  86.73780252,\n",
       "        71.98892908,  81.41778095,  89.24961917, 104.5684139 ,\n",
       "        87.90157374,  70.06484265,  86.50624973,  68.999877  ,\n",
       "        92.99028222,  76.25752621,  82.82779833,  91.9816538 ,\n",
       "        82.57131862,  72.20562323, 104.99684498,  69.39707167,\n",
       "        84.11243546,  68.56091572,  94.88494049, 102.42543315,\n",
       "        64.49045726,  73.22927454,  77.41817111,  72.11402073,\n",
       "        92.2607772 ,  73.66779333,  67.62877284,  61.47384163,\n",
       "       100.76242831,  83.55528861,  73.28921933,  86.14710379,\n",
       "        83.78627712,  69.54217504,  82.82798411,  84.10217702,\n",
       "        62.07559275,  64.25602687,  64.35522816,  81.77901996,\n",
       "        78.61484165,  75.37479266,  79.70575714,  90.31343715,\n",
       "        71.2569261 ,  81.71331628,  43.76785074,  81.09840843,\n",
       "        79.11208682,  72.22562585,  50.9810812 ,  93.77806099,\n",
       "        86.93601769,  32.3464027 ,  91.66693679,  70.90412095,\n",
       "        79.46067382,  78.59926002,  82.77015359,  42.45879621,\n",
       "        75.12066091,  83.74628431,  75.36586445, 102.52745821,\n",
       "        67.6535635 ,  81.74715174,  46.22568418,  69.5570111 ,\n",
       "        72.10079408,  75.09762307,  77.22976159, 118.36310666,\n",
       "        68.02907507,  55.31239979,  88.27127925,  73.90611647,\n",
       "        76.20903536,  68.85691041,  73.37258446, 101.84285396,\n",
       "        76.92740662,  72.34993873,  91.90085012,  84.16161614,\n",
       "        87.78259115,  89.45795482,  91.88805819,  71.18560224,\n",
       "        57.32369287,  78.43857724,  88.04728067,  97.92757238,\n",
       "        87.49144262,  46.14279466,  79.84924651,  75.63772671,\n",
       "       126.77480656,  65.39239524,  97.62242644,  73.32418857,\n",
       "        64.54744173,  96.8528209 ,  64.48011667,  73.49162295,\n",
       "        84.43038367,  73.3660652 ,  97.13996069,  69.90483334,\n",
       "        67.07390808,  59.83944943,  83.91653213,  83.04967375,\n",
       "       100.60689413,  75.64051396,  79.3210048 ,  75.49385278,\n",
       "        68.51789183,  86.62367185,  90.45744356,  62.93211   ,\n",
       "        67.86036071,  90.46448585,  74.38847748,  81.08324234,\n",
       "        61.38554065,  83.56258889, 118.43063477,  59.67585606,\n",
       "        98.73249806,  69.17312775,  81.92646295,  63.20894417,\n",
       "        60.26697739, 106.90165011, 100.84680486,  73.97580294,\n",
       "        72.3099105 ,  60.16204369,  68.73792139,  83.21357643])"
      ]
     },
     "execution_count": 47,
     "metadata": {},
     "output_type": "execute_result"
    }
   ],
   "source": [
    "# Generate random numbers\n",
    "# np.random.normal(mu, sigma, size)\n",
    "normal_array = np.random.normal(79, 15, 1000)\n",
    "normal_array\n",
    "\n"
   ]
  },
  {
   "cell_type": "code",
   "execution_count": null,
   "metadata": {},
   "outputs": [],
   "source": []
  },
  {
   "cell_type": "markdown",
   "metadata": {},
   "source": [
    "## Numpy and Statistics"
   ]
  },
  {
   "cell_type": "code",
   "execution_count": 48,
   "metadata": {},
   "outputs": [
    {
     "data": {
      "text/plain": [
       "(array([ 4.,  0.,  1.,  0.,  3.,  4.,  5., 10.,  9., 13., 13., 11., 17.,\n",
       "        22., 22., 32., 38., 48., 48., 56., 52., 56., 48., 53., 54., 54.,\n",
       "        61., 39., 47., 26., 37., 23., 22., 14., 16., 12.,  8.,  4.,  6.,\n",
       "         0.,  7.,  3.,  0.,  0.,  0.,  1.,  0.,  0.,  0.,  1.]),\n",
       " array([ 31.44089636,  33.53198928,  35.6230822 ,  37.71417512,\n",
       "         39.80526805,  41.89636097,  43.98745389,  46.07854681,\n",
       "         48.16963973,  50.26073265,  52.35182557,  54.4429185 ,\n",
       "         56.53401142,  58.62510434,  60.71619726,  62.80729018,\n",
       "         64.8983831 ,  66.98947602,  69.08056895,  71.17166187,\n",
       "         73.26275479,  75.35384771,  77.44494063,  79.53603355,\n",
       "         81.62712647,  83.71821939,  85.80931232,  87.90040524,\n",
       "         89.99149816,  92.08259108,  94.173684  ,  96.26477692,\n",
       "         98.35586984, 100.44696277, 102.53805569, 104.62914861,\n",
       "        106.72024153, 108.81133445, 110.90242737, 112.99352029,\n",
       "        115.08461322, 117.17570614, 119.26679906, 121.35789198,\n",
       "        123.4489849 , 125.54007782, 127.63117074, 129.72226366,\n",
       "        131.81335659, 133.90444951, 135.99554243]),\n",
       " <a list of 50 Patch objects>)"
      ]
     },
     "execution_count": 48,
     "metadata": {},
     "output_type": "execute_result"
    }
   ],
   "source": [
    "import matplotlib.pyplot as plt\n",
    "import seaborn as sns\n",
    "sns.set()\n",
    "plt.hist(normal_array, color=\"grey\", bins=50)"
   ]
  },
  {
   "cell_type": "code",
   "execution_count": null,
   "metadata": {},
   "outputs": [],
   "source": []
  },
  {
   "cell_type": "code",
   "execution_count": 49,
   "metadata": {},
   "outputs": [],
   "source": [
    "# numpy.asarray()\n",
    "# Asarray\n",
    "# The asarray()function is used when you want to convert an input to an array. \n",
    "# The input could be a lists, tuple, ndarray, etc."
   ]
  },
  {
   "cell_type": "code",
   "execution_count": 50,
   "metadata": {},
   "outputs": [],
   "source": [
    "four_by_four_matrix = np.matrix(np.ones((4,4), dtype=float))"
   ]
  },
  {
   "cell_type": "code",
   "execution_count": 51,
   "metadata": {},
   "outputs": [
    {
     "data": {
      "text/plain": [
       "matrix([[1., 1., 1., 1.],\n",
       "        [1., 1., 1., 1.],\n",
       "        [1., 1., 1., 1.],\n",
       "        [1., 1., 1., 1.]])"
      ]
     },
     "execution_count": 51,
     "metadata": {},
     "output_type": "execute_result"
    }
   ],
   "source": [
    "four_by_four_matrix"
   ]
  },
  {
   "cell_type": "code",
   "execution_count": 52,
   "metadata": {},
   "outputs": [
    {
     "data": {
      "text/plain": [
       "matrix([[1., 1., 1., 1.],\n",
       "        [1., 1., 1., 1.],\n",
       "        [2., 2., 2., 2.],\n",
       "        [1., 1., 1., 1.]])"
      ]
     },
     "execution_count": 52,
     "metadata": {},
     "output_type": "execute_result"
    }
   ],
   "source": [
    "np.asarray(four_by_four_matrix)[2] = 2\n",
    "four_by_four_matrix"
   ]
  },
  {
   "cell_type": "code",
   "execution_count": 53,
   "metadata": {},
   "outputs": [],
   "source": [
    "# numpy.arange() in Python with Example\n",
    "# Whay is Arrange?\n",
    "# Sometimes, you want to create values that are evenly spaced within a defined interval. \n",
    "# For instance, you want to create values from 1 to 10; you can use numpy.arange() function\n"
   ]
  },
  {
   "cell_type": "code",
   "execution_count": 54,
   "metadata": {},
   "outputs": [
    {
     "data": {
      "text/plain": [
       "range(0, 11, 2)"
      ]
     },
     "execution_count": 54,
     "metadata": {},
     "output_type": "execute_result"
    }
   ],
   "source": [
    "# creating list using range(starting, stop, step)\n",
    "lst = range(0, 11, 2)\n",
    "lst"
   ]
  },
  {
   "cell_type": "code",
   "execution_count": 55,
   "metadata": {},
   "outputs": [
    {
     "name": "stdout",
     "output_type": "stream",
     "text": [
      "0\n",
      "2\n",
      "4\n",
      "6\n",
      "8\n",
      "10\n"
     ]
    }
   ],
   "source": [
    "for l in lst:\n",
    "    print(l)"
   ]
  },
  {
   "cell_type": "code",
   "execution_count": 56,
   "metadata": {},
   "outputs": [
    {
     "data": {
      "text/plain": [
       "array([ 0,  1,  2,  3,  4,  5,  6,  7,  8,  9, 10, 11, 12, 13, 14, 15, 16,\n",
       "       17, 18, 19])"
      ]
     },
     "execution_count": 56,
     "metadata": {},
     "output_type": "execute_result"
    }
   ],
   "source": [
    "# Similar to range arange numpy.arange(start, stop, step)\n",
    "whole_numbers = np.arange(0, 20, 1)\n",
    "whole_numbers"
   ]
  },
  {
   "cell_type": "code",
   "execution_count": 57,
   "metadata": {},
   "outputs": [
    {
     "data": {
      "text/plain": [
       "array([ 1,  2,  3,  4,  5,  6,  7,  8,  9, 10, 11, 12, 13, 14, 15, 16, 17,\n",
       "       18, 19])"
      ]
     },
     "execution_count": 57,
     "metadata": {},
     "output_type": "execute_result"
    }
   ],
   "source": [
    "natural_numbers = np.arange(1, 20, 1)\n",
    "natural_numbers"
   ]
  },
  {
   "cell_type": "code",
   "execution_count": 58,
   "metadata": {},
   "outputs": [
    {
     "data": {
      "text/plain": [
       "array([ 1,  3,  5,  7,  9, 11, 13, 15, 17, 19])"
      ]
     },
     "execution_count": 58,
     "metadata": {},
     "output_type": "execute_result"
    }
   ],
   "source": [
    "odd_numbers = np.arange(1, 20, 2)\n",
    "odd_numbers"
   ]
  },
  {
   "cell_type": "code",
   "execution_count": 59,
   "metadata": {},
   "outputs": [
    {
     "data": {
      "text/plain": [
       "array([ 2,  4,  6,  8, 10, 12, 14, 16, 18])"
      ]
     },
     "execution_count": 59,
     "metadata": {},
     "output_type": "execute_result"
    }
   ],
   "source": [
    "even_numbers = np.arange(2, 20, 2)\n",
    "even_numbers"
   ]
  },
  {
   "cell_type": "code",
   "execution_count": 60,
   "metadata": {},
   "outputs": [
    {
     "data": {
      "text/plain": [
       "array([1.        , 1.44444444, 1.88888889, 2.33333333, 2.77777778,\n",
       "       3.22222222, 3.66666667, 4.11111111, 4.55555556, 5.        ])"
      ]
     },
     "execution_count": 60,
     "metadata": {},
     "output_type": "execute_result"
    }
   ],
   "source": [
    "# numpy.linspace()\n",
    "# numpy.logspace() in Python with Example\n",
    "# For instance, it can be used to create 10 values from 1 to 5 evenly spaced.\n",
    "np.linspace(1.0, 5.0, num=10)"
   ]
  },
  {
   "cell_type": "code",
   "execution_count": 61,
   "metadata": {},
   "outputs": [
    {
     "data": {
      "text/plain": [
       "array([1. , 1.8, 2.6, 3.4, 4.2])"
      ]
     },
     "execution_count": 61,
     "metadata": {},
     "output_type": "execute_result"
    }
   ],
   "source": [
    "# not to include the last value in the interval\n",
    "np.linspace(1.0, 5.0, num=5, endpoint=False)"
   ]
  },
  {
   "cell_type": "code",
   "execution_count": 62,
   "metadata": {},
   "outputs": [],
   "source": [
    "# LogSpace\n",
    "# LogSpace returns even spaced numbers on a log scale. Logspace has the same parameters as np.linspace.\n",
    "\n",
    "# Syntax:\n",
    "\n",
    "# numpy.logspace(start, stop, num, endpoint)"
   ]
  },
  {
   "cell_type": "code",
   "execution_count": 63,
   "metadata": {},
   "outputs": [
    {
     "data": {
      "text/plain": [
       "array([  100.        ,   464.15888336,  2154.43469003, 10000.        ])"
      ]
     },
     "execution_count": 63,
     "metadata": {},
     "output_type": "execute_result"
    }
   ],
   "source": [
    "np.logspace(2, 4.0, num=4)"
   ]
  },
  {
   "cell_type": "code",
   "execution_count": 64,
   "metadata": {},
   "outputs": [],
   "source": [
    "# to check the size of an array\n",
    "x = np.array([1,2,3], dtype=np.complex128)"
   ]
  },
  {
   "cell_type": "code",
   "execution_count": 65,
   "metadata": {},
   "outputs": [
    {
     "data": {
      "text/plain": [
       "array([1.+0.j, 2.+0.j, 3.+0.j])"
      ]
     },
     "execution_count": 65,
     "metadata": {},
     "output_type": "execute_result"
    }
   ],
   "source": [
    "x"
   ]
  },
  {
   "cell_type": "code",
   "execution_count": 66,
   "metadata": {},
   "outputs": [
    {
     "data": {
      "text/plain": [
       "16"
      ]
     },
     "execution_count": 66,
     "metadata": {},
     "output_type": "execute_result"
    }
   ],
   "source": [
    "x.itemsize"
   ]
  },
  {
   "cell_type": "code",
   "execution_count": 67,
   "metadata": {},
   "outputs": [
    {
     "data": {
      "text/plain": [
       "array([[1, 2, 3],\n",
       "       [4, 5, 6]])"
      ]
     },
     "execution_count": 67,
     "metadata": {},
     "output_type": "execute_result"
    }
   ],
   "source": [
    "# indexing and Slicing NumPy Arrays in Python \n",
    "\n",
    "np_list = np.array([(1,2,3), (4,5,6)])\n",
    "np_list\n"
   ]
  },
  {
   "cell_type": "code",
   "execution_count": 68,
   "metadata": {},
   "outputs": [
    {
     "name": "stdout",
     "output_type": "stream",
     "text": [
      "First row:  [1 2 3]\n",
      "Second row:  [4 5 6]\n"
     ]
    }
   ],
   "source": [
    "print('First row: ', np_list[0])\n",
    "print('Second row: ', np_list[1])\n"
   ]
  },
  {
   "cell_type": "code",
   "execution_count": 69,
   "metadata": {},
   "outputs": [
    {
     "name": "stdout",
     "output_type": "stream",
     "text": [
      "First column:  [1 4]\n",
      "Second column:  [2 5]\n",
      "Third column:  [3 6]\n"
     ]
    }
   ],
   "source": [
    "print('First column: ', np_list[:,0])\n",
    "print('Second column: ', np_list[:,1])\n",
    "print('Third column: ', np_list[:,2])\n"
   ]
  },
  {
   "cell_type": "markdown",
   "metadata": {},
   "source": [
    "\n",
    "## NumPy Statistical Functions with Example\n",
    "NumPy has quite a few useful statistical functions for finding minimum, maximum, percentile standard deviation and variance, etc from the given elements in the array.\n",
    "The functions are explained as follows −\n",
    "Statistical function\n",
    "Numpy is equipped with the robust statistical function as listed below\n",
    "\n",
    "- Numpy Functions\n",
    "    - Min\tnp.min()\n",
    "    - Max\tnp.max()\n",
    "    - Mean\tnp.mean()\n",
    "    - Median\tnp.median()\n",
    "    - Standard deviation\tnp.std()"
   ]
  },
  {
   "cell_type": "code",
   "execution_count": 70,
   "metadata": {},
   "outputs": [
    {
     "name": "stdout",
     "output_type": "stream",
     "text": [
      "min:  1\n",
      "max:  55\n",
      "mean:  14.777777777777779\n",
      "sd:  18.913709183069525\n"
     ]
    }
   ],
   "source": [
    "np_normal_dis = np.random.normal(5, 0.5, 100)\n",
    "np_normal_dis\n",
    "## min, max, mean, median, sd\n",
    "print('min: ', two_dimension_array.min())\n",
    "print('max: ', two_dimension_array.max())\n",
    "print('mean: ',two_dimension_array.mean())\n",
    "# print('median: ', two_dimension_array.median())\n",
    "print('sd: ', two_dimension_array.std())"
   ]
  },
  {
   "cell_type": "code",
   "execution_count": 71,
   "metadata": {},
   "outputs": [
    {
     "name": "stdout",
     "output_type": "stream",
     "text": [
      "[[ 1  2  3]\n",
      " [ 4 55 44]\n",
      " [ 7  8  9]]\n",
      "Column with minimum:  [1 2 3]\n",
      "Column with maximum:  [ 7 55 44]\n",
      "=== Row ==\n",
      "Row with minimum:  [1 4 7]\n",
      "Row with maximum:  [ 3 55  9]\n"
     ]
    }
   ],
   "source": [
    "print(two_dimension_array)\n",
    "print('Column with minimum: ', np.amin(two_dimension_array,axis=0))\n",
    "print('Column with maximum: ', np.amax(two_dimension_array,axis=0))\n",
    "print('=== Row ==')\n",
    "print('Row with minimum: ', np.amin(two_dimension_array,axis=1))\n",
    "print('Row with maximum: ', np.amax(two_dimension_array,axis=1))"
   ]
  },
  {
   "cell_type": "markdown",
   "metadata": {},
   "source": [
    "## How to create repeating sequences?\n"
   ]
  },
  {
   "cell_type": "code",
   "execution_count": 72,
   "metadata": {},
   "outputs": [
    {
     "name": "stdout",
     "output_type": "stream",
     "text": [
      "Tile:    [1 2 3 1 2 3]\n",
      "Repeat:  [1 1 2 2 3 3]\n"
     ]
    }
   ],
   "source": [
    "a = [1,2,3] \n",
    "\n",
    "# Repeat whole of 'a' two times\n",
    "print('Tile:   ', np.tile(a, 2))\n",
    "\n",
    "# Repeat each element of 'a' two times\n",
    "print('Repeat: ', np.repeat(a, 2))\n"
   ]
  },
  {
   "cell_type": "markdown",
   "metadata": {},
   "source": [
    "## How to generate random numbers?"
   ]
  },
  {
   "cell_type": "code",
   "execution_count": 73,
   "metadata": {},
   "outputs": [
    {
     "name": "stdout",
     "output_type": "stream",
     "text": [
      "0.36952266491348396\n"
     ]
    }
   ],
   "source": [
    "# One random number between [0,1)\n",
    "one_random_num = np.random.random()\n",
    "one_random_in = np.random\n",
    "print(one_random_num)"
   ]
  },
  {
   "cell_type": "code",
   "execution_count": 74,
   "metadata": {},
   "outputs": [
    {
     "name": "stdout",
     "output_type": "stream",
     "text": [
      "[[0.67552332 0.92278999 0.13488493]\n",
      " [0.24078185 0.61402248 0.20468719]]\n"
     ]
    }
   ],
   "source": [
    "# Random numbers between [0,1) of shape 2,3\n",
    "r = np.random.random(size=[2,3])\n",
    "print(r)"
   ]
  },
  {
   "cell_type": "code",
   "execution_count": 75,
   "metadata": {},
   "outputs": [
    {
     "name": "stdout",
     "output_type": "stream",
     "text": [
      "['e' 'o' 'o' 'u' 'i' 'e' 'e' 'i' 'a' 'u']\n"
     ]
    }
   ],
   "source": [
    "print(np.random.choice(['a', 'e', 'i', 'o', 'u'], size=10))  "
   ]
  },
  {
   "cell_type": "code",
   "execution_count": null,
   "metadata": {},
   "outputs": [],
   "source": []
  },
  {
   "cell_type": "code",
   "execution_count": 76,
   "metadata": {},
   "outputs": [
    {
     "data": {
      "text/plain": [
       "array([[0.72775367, 0.35760394],\n",
       "       [0.31131111, 0.46202263]])"
      ]
     },
     "execution_count": 76,
     "metadata": {},
     "output_type": "execute_result"
    }
   ],
   "source": [
    "## Random numbers between [0, 1] of shape 2, 2\n",
    "rand = np.random.rand(2,2)\n",
    "rand"
   ]
  },
  {
   "cell_type": "code",
   "execution_count": 77,
   "metadata": {},
   "outputs": [
    {
     "data": {
      "text/plain": [
       "array([[ 0.86635489, -0.23565057],\n",
       "       [ 1.06587929,  0.08108802]])"
      ]
     },
     "execution_count": 77,
     "metadata": {},
     "output_type": "execute_result"
    }
   ],
   "source": [
    "rand2 = np.random.randn(2,2)\n",
    "rand2\n"
   ]
  },
  {
   "cell_type": "code",
   "execution_count": 78,
   "metadata": {},
   "outputs": [
    {
     "data": {
      "text/plain": [
       "array([[7, 0, 7],\n",
       "       [2, 7, 2],\n",
       "       [3, 1, 8],\n",
       "       [8, 3, 1],\n",
       "       [8, 4, 0]])"
      ]
     },
     "execution_count": 78,
     "metadata": {},
     "output_type": "execute_result"
    }
   ],
   "source": [
    "# Random integers between [0, 10) of shape 2,5\n",
    "rand_int = np.random.randint(0, 10, size=[5,3])\n",
    "rand_int"
   ]
  },
  {
   "cell_type": "code",
   "execution_count": null,
   "metadata": {},
   "outputs": [],
   "source": []
  },
  {
   "cell_type": "code",
   "execution_count": 79,
   "metadata": {},
   "outputs": [
    {
     "name": "stdout",
     "output_type": "stream",
     "text": [
      "min:  3.2828488444166863\n",
      "max:  6.676657274907318\n",
      "mean:  4.9893842293219715\n",
      "median:  4.992274123091303\n",
      "mode:  ModeResult(mode=array([3.28284884]), count=array([1]))\n",
      "sd:  0.4975082609767906\n"
     ]
    }
   ],
   "source": [
    "from scipy import stats\n",
    "np_normal_dis = np.random.normal(5, 0.5, 1000)\n",
    "np_normal_dis\n",
    "## min, max, mean, median, sd\n",
    "print('min: ', np.min(np_normal_dis))\n",
    "print('max: ', np.max(np_normal_dis))\n",
    "print('mean: ', np.mean(np_normal_dis))\n",
    "print('median: ', np.median(np_normal_dis))\n",
    "print('mode: ', stats.mode(np_normal_dis))\n",
    "print('sd: ', np.std(np_normal_dis))"
   ]
  },
  {
   "cell_type": "code",
   "execution_count": 80,
   "metadata": {},
   "outputs": [
    {
     "data": {
      "text/plain": [
       "(array([  1.,   3.,   2.,   9.,  18.,  36.,  57.,  77., 109., 119., 127.,\n",
       "        119., 108.,  86.,  53.,  38.,  18.,  12.,   6.,   1.,   1.]),\n",
       " array([3.28284884, 3.44445877, 3.60606869, 3.76767862, 3.92928855,\n",
       "        4.09089847, 4.2525084 , 4.41411832, 4.57572825, 4.73733817,\n",
       "        4.8989481 , 5.06055802, 5.22216795, 5.38377787, 5.5453878 ,\n",
       "        5.70699772, 5.86860765, 6.03021757, 6.1918275 , 6.35343742,\n",
       "        6.51504735, 6.67665727]),\n",
       " <a list of 21 Patch objects>)"
      ]
     },
     "execution_count": 80,
     "metadata": {},
     "output_type": "execute_result"
    },
    {
     "data": {
      "image/png": "[encoded data removed]",
      "text/plain": [
       "<Figure size 432x288 with 1 Axes>"
      ]
     },
     "metadata": {
      "needs_background": "light"
     },
     "output_type": "display_data"
    }
   ],
   "source": [
    "plt.hist(np_normal_dis, color=\"grey\", bins=21)"
   ]
  },
  {
   "cell_type": "code",
   "execution_count": 81,
   "metadata": {},
   "outputs": [],
   "source": [
    "# numpy.dot(): Dot Product in Python using Numpy\n",
    "# Dot Product\n",
    "# Numpy is powerful library for matrices computation. For instance, you can compute the dot product with np.dot\n",
    "\n",
    "# Syntax\n",
    "\n",
    "# numpy.dot(x, y, out=None)"
   ]
  },
  {
   "cell_type": "code",
   "execution_count": 82,
   "metadata": {},
   "outputs": [
    {
     "data": {
      "text/plain": [
       "14"
      ]
     },
     "execution_count": 82,
     "metadata": {},
     "output_type": "execute_result"
    }
   ],
   "source": [
    "## Linear algebra\n",
    "### Dot product: product of two arrays\n",
    "f = np.array([1,2])\n",
    "g = np.array([4,5])\n",
    "### 1*4+2*5\n",
    "np.dot(f, g)"
   ]
  },
  {
   "cell_type": "code",
   "execution_count": 83,
   "metadata": {},
   "outputs": [
    {
     "data": {
      "text/plain": [
       "23"
      ]
     },
     "execution_count": 83,
     "metadata": {},
     "output_type": "execute_result"
    }
   ],
   "source": [
    "## Linear algebra\n",
    "### Dot product: product of two arrays\n",
    "f = np.array([1,2,3])\n",
    "g = np.array([4,5,3])\n",
    "### 1*4+2*5 + 3*6\n",
    "np.dot(f, g)"
   ]
  },
  {
   "cell_type": "code",
   "execution_count": 84,
   "metadata": {},
   "outputs": [],
   "source": [
    "# NumPy Matrix Multiplication with np.matmul() "
   ]
  },
  {
   "cell_type": "code",
   "execution_count": 85,
   "metadata": {},
   "outputs": [
    {
     "data": {
      "text/plain": [
       "array([[19, 22],\n",
       "       [43, 50]])"
      ]
     },
     "execution_count": 85,
     "metadata": {},
     "output_type": "execute_result"
    }
   ],
   "source": [
    "### Matmul: matruc product of two arrays\n",
    "h = [[1,2],[3,4]] \n",
    "i = [[5,6],[7,8]] \n",
    "### 1*5+2*7 = 19\n",
    "np.matmul(h, i)"
   ]
  },
  {
   "cell_type": "code",
   "execution_count": 86,
   "metadata": {},
   "outputs": [],
   "source": [
    "## Determinant 2*2 matrix\n",
    "### 5*8-7*6np.linalg.det(i)"
   ]
  },
  {
   "cell_type": "code",
   "execution_count": 87,
   "metadata": {},
   "outputs": [
    {
     "data": {
      "text/plain": [
       "-1.999999999999999"
      ]
     },
     "execution_count": 87,
     "metadata": {},
     "output_type": "execute_result"
    }
   ],
   "source": [
    "np.linalg.det(i)"
   ]
  },
  {
   "cell_type": "code",
   "execution_count": 88,
   "metadata": {},
   "outputs": [],
   "source": [
    "Z = np.zeros((8,8))\n",
    "Z[1::2,::2] = 1\n",
    "Z[::2,1::2] = 1"
   ]
  },
  {
   "cell_type": "code",
   "execution_count": 89,
   "metadata": {},
   "outputs": [
    {
     "data": {
      "text/plain": [
       "array([[0., 1., 0., 1., 0., 1., 0., 1.],\n",
       "       [1., 0., 1., 0., 1., 0., 1., 0.],\n",
       "       [0., 1., 0., 1., 0., 1., 0., 1.],\n",
       "       [1., 0., 1., 0., 1., 0., 1., 0.],\n",
       "       [0., 1., 0., 1., 0., 1., 0., 1.],\n",
       "       [1., 0., 1., 0., 1., 0., 1., 0.],\n",
       "       [0., 1., 0., 1., 0., 1., 0., 1.],\n",
       "       [1., 0., 1., 0., 1., 0., 1., 0.]])"
      ]
     },
     "execution_count": 89,
     "metadata": {},
     "output_type": "execute_result"
    }
   ],
   "source": [
    "Z"
   ]
  },
  {
   "cell_type": "code",
   "execution_count": 90,
   "metadata": {},
   "outputs": [],
   "source": [
    "new_list = [ x + 2 for x in range(0, 11)]"
   ]
  },
  {
   "cell_type": "code",
   "execution_count": 91,
   "metadata": {},
   "outputs": [
    {
     "data": {
      "text/plain": [
       "[2, 3, 4, 5, 6, 7, 8, 9, 10, 11, 12]"
      ]
     },
     "execution_count": 91,
     "metadata": {},
     "output_type": "execute_result"
    }
   ],
   "source": [
    "new_list"
   ]
  },
  {
   "cell_type": "code",
   "execution_count": 92,
   "metadata": {},
   "outputs": [
    {
     "data": {
      "text/plain": [
       "array([ 2,  3,  4,  5,  6,  7,  8,  9, 10, 11, 12])"
      ]
     },
     "execution_count": 92,
     "metadata": {},
     "output_type": "execute_result"
    }
   ],
   "source": [
    "np_arr = np.array(range(0, 11))\n",
    "np_arr + 2"
   ]
  },
  {
   "cell_type": "code",
   "execution_count": 93,
   "metadata": {},
   "outputs": [
    {
     "data": {
      "text/plain": [
       "array([ 7,  9, 11, 13, 15])"
      ]
     },
     "execution_count": 93,
     "metadata": {},
     "output_type": "execute_result"
    }
   ],
   "source": [
    "x = np.array([1,2,3,4,5])\n",
    "y = x * 2 + 5\n",
    "y"
   ]
  },
  {
   "cell_type": "code",
   "execution_count": 94,
   "metadata": {},
   "outputs": [
    {
     "data": {
      "image/png": "[encoded data removed]",
      "text/plain": [
       "<Figure size 432x288 with 1 Axes>"
      ]
     },
     "metadata": {
      "needs_background": "light"
     },
     "output_type": "display_data"
    }
   ],
   "source": [
    "plt.plot(x,y)\n",
    "plt.xlabel('Temperature in oC')\n",
    "plt.ylabel('Pressure in atm')\n",
    "plt.title('Temperature vs Pressure')\n",
    "plt.xticks(np.arange(0, 6, step=0.5))\n",
    "plt.show()"
   ]
  },
  {
   "cell_type": "code",
   "execution_count": 96,
   "metadata": {},
   "outputs": [
    {
     "data": {
      "text/plain": [
       "[Text(0, 0.5, 'y'), Text(0.5, 0, 'x')]"
      ]
     },
     "execution_count": 96,
     "metadata": {},
     "output_type": "execute_result"
    },
    {
     "data": {
      "image/png": "[encoded data removed]",
      "text/plain": [
       "<Figure size 432x288 with 1 Axes>"
      ]
     },
     "metadata": {
      "needs_background": "light"
     },
     "output_type": "display_data"
    }
   ],
   "source": [
    "x = np.random.normal(size=1000)\n",
    "ax = sns.distplot(x);\n",
    "ax.set(xlabel=\"x\", ylabel='y')\n"
   ]
  },
  {
   "cell_type": "markdown",
   "metadata": {},
   "source": [
    "# Summery\n",
    "\n",
    "To summarise, the main differences with python lists are:\n",
    "\n",
    "1. Arrays support vectorised operations, while lists don’t.\n",
    "1. Once an array is created, you cannot change its size. You will have to create a new array or overwrite the existing one.\n",
    "1. Every array has one and only one dtype. All items in it should be of that dtype.\n",
    "1. An equivalent numpy array occupies much less space than a python list of lists.\n",
    "1. numpy arrays support boolean indexing."
   ]
  }
 ],
 "metadata": {
  "kernelspec": {
   "display_name": "Python 3",
   "language": "python",
   "name": "python3"
  },
  "language_info": {
   "codemirror_mode": {
    "name": "ipython",
    "version": 3
   },
   "file_extension": ".py",
   "mimetype": "text/x-python",
   "name": "python",
   "nbconvert_exporter": "python",
   "pygments_lexer": "ipython3",
   "version": "3.7.3"
  }
 },
 "nbformat": 4,
 "nbformat_minor": 2
}
